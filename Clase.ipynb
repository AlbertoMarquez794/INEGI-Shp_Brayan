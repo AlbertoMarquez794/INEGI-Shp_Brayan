{
 "cells": [
  {
   "cell_type": "code",
   "execution_count": null,
   "metadata": {},
   "outputs": [],
   "source": [
    "import geopandas as gpd\n",
    "\n",
    "# Load the shapefile\n",
    "shapefile_path = '/Users/emiliahernandez/Desktop/INEGI-Shp/Estados/conjunto_de_datos/00ent.shp'\n",
    "gdf = gpd.read_file(shapefile_path)\n"
   ]
  }
 ],
 "metadata": {
  "language_info": {
   "name": "python"
  }
 },
 "nbformat": 4,
 "nbformat_minor": 2
}
